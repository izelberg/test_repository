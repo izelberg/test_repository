{
 "cells": [
  {
   "cell_type": "markdown",
   "metadata": {},
   "source": [
    "Задание 1\n",
    "Дана переменная, в которой хранится слово из латинских букв. Напишите код, который выводит на экран:\n",
    "среднюю букву, если число букв в слове нечетное;\n",
    "две средних буквы, если число букв четное."
   ]
  },
  {
   "cell_type": "code",
   "execution_count": 24,
   "metadata": {},
   "outputs": [
    {
     "name": "stdout",
     "output_type": "stream",
     "text": [
      "u\n"
     ]
    }
   ],
   "source": [
    "x = 'graduated'\n",
    "a = (len(x))\n",
    "a1 = a // 2\n",
    "a0 = a1-1\n",
    "a2 = a1+1\n",
    "if a % 2 == 0:\n",
    "    print (x[a0:a2])\n",
    "else:\n",
    "    print (x[a1])"
   ]
  },
  {
   "cell_type": "markdown",
   "metadata": {},
   "source": [
    "Задание 2\n",
    "Напишите программу, которая последовательно запрашивает у пользователя числа (по одному за раз) и после первого нуля выводит сумму всех ранее введенных чисел."
   ]
  },
  {
   "cell_type": "code",
   "execution_count": 41,
   "metadata": {},
   "outputs": [
    {
     "name": "stdout",
     "output_type": "stream",
     "text": [
      "Введите число:3\n",
      "Введите число:3\n",
      "Введите число:-2\n",
      "Введите число:4\n",
      "Введите число:0\n",
      "8\n"
     ]
    }
   ],
   "source": [
    "a = int(input ('Введите число:'))\n",
    "s = a\n",
    "while a > 0 or a < 0:\n",
    "    a = int(input ('Введите число:'))\n",
    "    s = s + a\n",
    "print (s)"
   ]
  },
  {
   "cell_type": "markdown",
   "metadata": {},
   "source": [
    "Задание 3\n",
    "Мы делаем MVP dating-сервиса, и у нас есть список парней и девушек.\n",
    "Выдвигаем гипотезу: лучшие рекомендации мы получим, если просто отсортируем имена по алфавиту и познакомим людей с одинаковыми индексами после сортировки! Но мы не будем никого знакомить, если кто-то может остаться без пары:"
   ]
  },
  {
   "cell_type": "code",
   "execution_count": 72,
   "metadata": {},
   "outputs": [
    {
     "name": "stdout",
     "output_type": "stream",
     "text": [
      "Идеальные пары:\n",
      "Alex  +  Emma\n",
      "Arthur  +  Kate\n",
      "John  +  Kira\n",
      "Peter  +  Liza\n",
      "Richard  +  Trisha\n"
     ]
    }
   ],
   "source": [
    "boys = ['Peter', 'Alex', 'John', 'Arthur', 'Richard']\n",
    "girls = ['Kate', 'Liza', 'Kira', 'Emma', 'Trisha']\n",
    "boys.sort()\n",
    "girls.sort()\n",
    "if len(boys) != len(girls):\n",
    "    print ('Внимание, кто-то может остаться без пары!')\n",
    "else:\n",
    "    print ('Идеальные пары:')\n",
    "    for l in range(0, len(boys)):\n",
    "        print (boys[l],' + ',girls[l])"
   ]
  },
  {
   "cell_type": "markdown",
   "metadata": {},
   "source": [
    "Задание 4\n",
    "У нас есть список, содержащий информацию о среднедневной температуре в Фаренгейтах за произвольный период по странам (структура данных в примере). Необходимо написать код, который рассчитает среднюю температуру за период в Цельсиях(!) для каждой страны."
   ]
  },
  {
   "cell_type": "code",
   "execution_count": 31,
   "metadata": {},
   "outputs": [
    {
     "name": "stdout",
     "output_type": "stream",
     "text": [
      "Average Temperature in Thailand is 23.9 C\n",
      "Average Temperature in Germany is 13.8 C\n",
      "Average Temperature in Russia is 3.7 C\n",
      "Average Temperature in Poland is 12.0 C\n"
     ]
    }
   ],
   "source": [
    "countries_temperature = [\n",
    "['Thailand', [75.2, 77, 78.8, 73.4, 68, 75.2, 77]],\n",
    "['Germany', [57.2, 55.4, 59, 59, 53.6]],\n",
    "['Russia', [35.6, 37.4, 39.2, 41, 42.8, 39.2, 35.6]],\n",
    "['Poland', [50, 50, 53.6, 57.2, 55.4, 55.4]]\n",
    "]\n",
    "for country in countries_temperature:\n",
    "    print('Average Temperature in', country[0], 'is', round((sum(country[1])/len(country[1])-32)*(5/9),1), 'C')"
   ]
  },
  {
   "cell_type": "markdown",
   "metadata": {},
   "source": [
    "Задание 5 (необязательное)\n",
    "Дан поток логов по количеству просмотренных страниц для каждого пользователя. Вам необходимо написать алгоритм, который считает среднее значение просмотров на пользователя. Т. е. надо посчитать отношение суммы всех просмотров к количеству уникальных пользователей"
   ]
  },
  {
   "cell_type": "code",
   "execution_count": 61,
   "metadata": {},
   "outputs": [
    {
     "name": "stdout",
     "output_type": "stream",
     "text": [
      "93\n",
      "['user1', 'user2', 'user3', 'user4']\n",
      "Среднее количество просмотров на 1 пользователя - 23.25\n"
     ]
    }
   ],
   "source": [
    "stream = [\n",
    "'2018-01-01,user1,3',\n",
    "'2018-01-07,user1,4',\n",
    "'2018-03-29,user1,1',\n",
    "'2018-04-04,user1,13',\n",
    "'2018-01-05,user2,7',\n",
    "'2018-06-14,user3,4',\n",
    "'2018-07-02,user3,10',\n",
    "'2018-03-21,user4,19',\n",
    "'2018-03-22,user4,4',\n",
    "'2018-04-22,user4,8',\n",
    "'2018-05-03,user4,9',\n",
    "'2018-05-11,user4,11',\n",
    "]\n",
    "#print(stream.split(',')) #Не работает, не понятно, можно ли разделить без цикла список по запятой и получить: \n",
    "#['2018-01-01,user1,3']\n",
    "#['2018-01-07,user1,4']\n",
    "#...\n",
    "views = 0\n",
    "users = []\n",
    "for s in stream:\n",
    "    splitted_stream = s.split(',') #До этого места воспользовалась разбором из вебинара\n",
    "#   print(splitted_stream)\n",
    "    views += int(splitted_stream[2]) #Сама догадалась, что прибавлять\n",
    "    if splitted_stream[1] not in users: #Про цикл не догадалась\n",
    "        users.append(splitted_stream[1]) #Про команду append совсем бы не догадалась, потому что по сути кажется,\n",
    "                                        #что надо извлекать элемент списка, а не формировать новый список путем извлечения\n",
    "                                        #значений из исходного списка\n",
    "print(views)\n",
    "print(users)\n",
    "print('Среднее количество просмотров на 1 пользователя -',views/len(users))"
   ]
  },
  {
   "cell_type": "markdown",
   "metadata": {},
   "source": [
    "Задание 6 (необязательное)\n",
    "Необходимо у пользователя запрашивать набор чисел разделенных пробелом. В результате должны выводиться числа, которые повторяются в вводе более одного раза."
   ]
  },
  {
   "cell_type": "code",
   "execution_count": 86,
   "metadata": {},
   "outputs": [
    {
     "name": "stdout",
     "output_type": "stream",
     "text": [
      "Введите числа через пробел: 4 5 6 78 5 78\n",
      "5,78\n"
     ]
    }
   ],
   "source": [
    "res = {}\n",
    "numbers = input('Введите числа через пробел: ')\n",
    "numbers_split = numbers.split()\n",
    "#print(numbers_split)\n",
    "for n in numbers_split:\n",
    "    if n not in res:\n",
    "        res[n] = 1\n",
    "    else: \n",
    "        res[n] += 1\n",
    "#print(res.items())\n",
    "res2 = []\n",
    "for item in res.items():\n",
    "    if item[1] > 1:\n",
    "        res2.append(item[0])\n",
    "print(','.join(res2))"
   ]
  },
  {
   "cell_type": "code",
   "execution_count": 88,
   "metadata": {},
   "outputs": [
    {
     "name": "stdout",
     "output_type": "stream",
     "text": [
      "Введите числа через пробел: 6 7 5 8 5 7 5\n",
      "5,7\n"
     ]
    }
   ],
   "source": [
    "res = {}\n",
    "res2 = []\n",
    "numbers = input('Введите числа через пробел: ')\n",
    "numbers_split = numbers.split()\n",
    "#print(numbers_split)\n",
    "for n in numbers_split:\n",
    "    if n not in res:\n",
    "        res[n] = 1\n",
    "    else: \n",
    "        res[n] += 1\n",
    "        if res[n] == 2:\n",
    "            res2.append(n)\n",
    "print(','.join(res2))"
   ]
  }
 ],
 "metadata": {
  "kernelspec": {
   "display_name": "Python 3",
   "language": "python",
   "name": "python3"
  },
  "language_info": {
   "codemirror_mode": {
    "name": "ipython",
    "version": 3
   },
   "file_extension": ".py",
   "mimetype": "text/x-python",
   "name": "python",
   "nbconvert_exporter": "python",
   "pygments_lexer": "ipython3",
   "version": "3.8.5"
  }
 },
 "nbformat": 4,
 "nbformat_minor": 4
}
