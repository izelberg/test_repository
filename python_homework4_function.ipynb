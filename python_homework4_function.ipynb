{
 "cells": [
  {
   "cell_type": "markdown",
   "metadata": {},
   "source": [
    "Вам нужно помочь секретарю автоматизировать работу. Для этого нужно написать программу, которая будет на основе хранимых данных исполнять пользовательские команды.\n",
    "Исходные данные имеют следующую структуру:\n",
    "1. перечень всех документов\n",
    "documents = [\n",
    "{‘type’: ‘passport’, ‘number’: ‘2207 876234’, ‘name’: ‘Василий Гупкин’},\n",
    "{‘type’: ‘invoice’, ‘number’: ‘11-2’, ‘name’: ‘Геннадий Покемонов’},\n",
    "{‘type’: ‘insurance’, ‘number’: ‘10006’, ‘name’: ‘Аристарх Павлов’}\n",
    "]\n",
    "2.перечень полок, на которых хранятся документы (если документ есть в documents, то он обязательно должен быть и в directories)\n",
    "directories = {\n",
    "‘1’: [‘2207 876234’, ‘11-2’],\n",
    "‘2’: [‘10006’],\n",
    "‘3’: []\n",
    "}\n",
    "Общие требования к программе:\n",
    "код должен быть грамотно декомпозирован (каждая функция отвечает за свою конкретную задачу, дублирующийся функционал переиспользуется, а его код не повторяется);\n",
    "в коде отсутствуют глобальные переменные (за исключением documents и directories);\n",
    "пользовательский ввод обрабатывается в цикле while до тех пор, пока пользователь явно не завершит программу (вводом команды “q”)."
   ]
  },
  {
   "cell_type": "code",
   "execution_count": 130,
   "metadata": {},
   "outputs": [],
   "source": [
    "documents = [\n",
    "{'type': 'passport', 'number': '2207 876234', 'name': 'Василий Гупкин'},\n",
    "{'type': 'invoice', 'number': '11-2', 'name': 'Геннадий Покемонов'},\n",
    "{'type': 'insurance', 'number': '10006', 'name': 'Аристарх Павлов'}\n",
    "]\n",
    "directories = {\n",
    "'1': ['2207 876234', '11-2'],\n",
    "'2': ['10006'],\n",
    "'3': []\n",
    "}"
   ]
  },
  {
   "cell_type": "markdown",
   "metadata": {},
   "source": [
    "Задание 1\n",
    "Пункт 1. Пользователь по команде “p” может узнать владельца документа по его номеру"
   ]
  },
  {
   "cell_type": "code",
   "execution_count": 135,
   "metadata": {},
   "outputs": [
    {
     "name": "stdout",
     "output_type": "stream",
     "text": [
      "Введите команду: p\n",
      "Введите номер документа: 10006\n",
      "Владелец документа:  Аристарх Павлов\n"
     ]
    }
   ],
   "source": [
    "def p():\n",
    "    user_input = input(\"Введите номер документа: \")\n",
    "    result = None\n",
    "    for doc in documents:\n",
    "        if doc['number'] == user_input:\n",
    "            result = doc\n",
    "            break\n",
    "    if result is None:\n",
    "        print('Документ отсутствует')\n",
    "    else:\n",
    "        print('Владелец документа: ', result['name'])\n",
    "        \n",
    "command_input = input(\"Введите команду: \")\n",
    "if command_input == 'p':\n",
    "    p()\n",
    "else:\n",
    "    print('Неизвестная команда')"
   ]
  },
  {
   "cell_type": "code",
   "execution_count": null,
   "metadata": {},
   "outputs": [],
   "source": [
    "Пункт 2. Пользователь по команде “s” может по номеру документа узнать на какой полке он хранится"
   ]
  },
  {
   "cell_type": "code",
   "execution_count": 136,
   "metadata": {},
   "outputs": [
    {
     "name": "stdout",
     "output_type": "stream",
     "text": [
      "Введите команду: s\n",
      "Введите номер документа: 11-2\n",
      "Документ хранится на полке:  1\n"
     ]
    }
   ],
   "source": [
    "def shelf():\n",
    "    user_input = input(\"Введите номер документа: \")\n",
    "    result2 = None\n",
    "    for key in directories.keys():\n",
    "        for doc_num in directories[key]:\n",
    "            if doc_num == user_input:\n",
    "                result2 = key\n",
    "                break\n",
    "            \n",
    "        if result2 is not None:\n",
    "            break\n",
    "        \n",
    "    if result2 is None:\n",
    "        print('Документ отсутствует')\n",
    "    else:\n",
    "        print('Документ хранится на полке: ',result2)\n",
    "                \n",
    "command_input = input(\"Введите команду: \")\n",
    "if command_input == 's':\n",
    "    shelf()\n",
    "else:\n",
    "    print('Неизвестная команда')"
   ]
  },
  {
   "cell_type": "markdown",
   "metadata": {},
   "source": [
    "Пункт 3. Пользователь по команде “l” может увидеть полную информацию по всем документам"
   ]
  },
  {
   "cell_type": "code",
   "execution_count": 138,
   "metadata": {},
   "outputs": [
    {
     "name": "stdout",
     "output_type": "stream",
     "text": [
      "Введите команду: l\n",
      "№:  2207 876234 , тип:  passport , владелец:  Василий Гупкин , полка хранения:  1\n",
      "№:  11-2 , тип:  invoice , владелец:  Геннадий Покемонов , полка хранения:  1\n",
      "№:  10006 , тип:  insurance , владелец:  Аристарх Павлов , полка хранения:  2\n"
     ]
    }
   ],
   "source": [
    "def list_full():\n",
    "    for doc in documents:\n",
    "        for key in directories.keys():\n",
    "            for doc_num in directories[key]:\n",
    "                if doc_num == doc['number']:\n",
    "                    print('№: ', doc['number'], ',', 'тип: ', doc['type'], ',', 'владелец: ', doc['name'], ',', 'полка хранения: ',key)\n",
    "                    #print(f'№: {doc['number']}, тип: {doc['type']}, владелец: {doc['name']}') Не получилось сделать запись f-строки\n",
    "\n",
    "command_input = input(\"Введите команду: \")\n",
    "if command_input == 'l':\n",
    "    list_full()\n",
    "else:\n",
    "    print('Неизвестная команда')"
   ]
  },
  {
   "cell_type": "markdown",
   "metadata": {},
   "source": [
    "Пункт 4. Пользователь по команде “as” может добавить новую полку"
   ]
  },
  {
   "cell_type": "code",
   "execution_count": 140,
   "metadata": {},
   "outputs": [
    {
     "name": "stdout",
     "output_type": "stream",
     "text": [
      "Введите команду: as\n",
      "Введите номер полки: 8\n",
      "Полка добавлена. Текущий перечень полок:  ['1', '2', '3', '8']\n"
     ]
    }
   ],
   "source": [
    "def add_shelf():\n",
    "    user_input = input(\"Введите номер полки: \")\n",
    "    result3 = []\n",
    "    find = 0\n",
    "    for key in directories.keys():\n",
    "        result3.append(key)\n",
    "        #print (key, result3)\n",
    "        if key == user_input:\n",
    "            find = 1\n",
    "    if find == 1:\n",
    "        print('Такая полка уже существует. Текущий перечень полок: ', result3)\n",
    "    else: \n",
    "        directories[user_input] = []\n",
    "        result3.append(user_input)\n",
    "        print('Полка добавлена. Текущий перечень полок: ', result3)\n",
    "                    \n",
    "command_input = input(\"Введите команду: \")\n",
    "if command_input == 'as':\n",
    "    add_shelf()\n",
    "else:\n",
    "    print('Неизвестная команда')"
   ]
  },
  {
   "cell_type": "markdown",
   "metadata": {},
   "source": [
    "Пункт 5. Пользователь по команде “ds” может удалить существующую полку из данных (только если она пустая)"
   ]
  },
  {
   "cell_type": "code",
   "execution_count": 141,
   "metadata": {},
   "outputs": [
    {
     "name": "stdout",
     "output_type": "stream",
     "text": [
      "Введите команду: ds\n",
      "Введите номер полки: 2\n",
      "На полке есть документы, удалите их перед удалением полки. Текущий перечень полок:  ['1', '2', '3', '8']\n"
     ]
    }
   ],
   "source": [
    "def del_shelf():\n",
    "    user_input = input(\"Введите номер полки: \")\n",
    "    result3 = []\n",
    "    find1 = 0\n",
    "    find2 = 0\n",
    "    for key in directories.keys():\n",
    "        result3.append(key)\n",
    "        if key == user_input:\n",
    "            find1 = 1\n",
    "            if len(directories[key]) == 0:\n",
    "                find2 = 1\n",
    "                result3.remove(key)\n",
    "    if find2 == 1:\n",
    "        del(directories[user_input])\n",
    "        print('Полка удалена. Текущий перечень полок: ', result3)\n",
    "    elif find1 == 1:\n",
    "        print('На полке есть документы, удалите их перед удалением полки. Текущий перечень полок: ', result3)\n",
    "    else:    \n",
    "        print('Такой полки не существует. Текущий перечень полок: ', result3)\n",
    "                    \n",
    "command_input = input(\"Введите команду: \")\n",
    "if command_input == 'ds':\n",
    "    del_shelf()\n",
    "else:\n",
    "    print('Неизвестная команда')"
   ]
  }
 ],
 "metadata": {
  "kernelspec": {
   "display_name": "Python 3",
   "language": "python",
   "name": "python3"
  },
  "language_info": {
   "codemirror_mode": {
    "name": "ipython",
    "version": 3
   },
   "file_extension": ".py",
   "mimetype": "text/x-python",
   "name": "python",
   "nbconvert_exporter": "python",
   "pygments_lexer": "ipython3",
   "version": "3.8.5"
  }
 },
 "nbformat": 4,
 "nbformat_minor": 4
}
